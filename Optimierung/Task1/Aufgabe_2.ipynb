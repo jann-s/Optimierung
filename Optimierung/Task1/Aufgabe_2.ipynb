{
 "cells": [
  {
   "cell_type": "markdown",
   "metadata": {
    "collapsed": true,
    "jupyter": {
     "outputs_hidden": true
    }
   },
   "source": [
    "Gegeben sei die Rosenbrockfunktion f(x, y) = 100(y − x2)2 + (1 − x)2.\n",
    "a) Implementieren Sie eine Funktion, die f ¨ ur f an einer beliebigen Stelle (x, y) den\n",
    "Funktionswert zur¨uck gibt."
   ]
  },
  {
   "cell_type": "code",
   "execution_count": 1,
   "metadata": {},
   "outputs": [
    {
     "name": "stdout",
     "output_type": "stream",
     "text": [
      "22516\n"
     ]
    }
   ],
   "source": [
    "import numpy \n",
    "def Rosenbrock(x,y):\n",
    "    return 100 * (y-x**2)**2 + (1-x)**2\n",
    "x = 5\n",
    "y = 10\n",
    "print(Rosenbrock(x,y))"
   ]
  },
  {
   "cell_type": "markdown",
   "metadata": {},
   "source": [
    "c) Implementieren Sie zwei Funktionen, die f ¨ ur f an einer beliebigen Stelle die partielle\n",
    "Ableitung nach x bzw. y zur¨uck gibt."
   ]
  },
  {
   "cell_type": "code",
   "execution_count": 4,
   "metadata": {},
   "outputs": [
    {
     "name": "stdout",
     "output_type": "stream",
     "text": [
      "0\n",
      "None\n"
     ]
    }
   ],
   "source": [
    "import numpy as np\n",
    "import sympy as sp\n",
    "\n",
    "\n",
    "x_symbol, y_symbol = sp.symbols('x y')\n",
    "\n",
    "f = 100 * (y_symbol-x_symbol**2)**2 + (1-x_symbol)**2\n",
    "def partial_derivative_x(x,y):\n",
    "    return sp.diff(Rosenbrock(x,y), x_symbol)\n",
    "def partial_derivative_y(x,y):\n",
    "    sp.diff(Rosenbrock(x,y), y_symbol)\n",
    "\n",
    "print(partial_derivative_x(5,10))\n",
    "print(partial_derivative_y(5,10))"
   ]
  },
  {
   "cell_type": "code",
   "execution_count": null,
   "metadata": {},
   "outputs": [],
   "source": []
  }
 ],
 "metadata": {
  "kernelspec": {
   "display_name": "Python 3 (ipykernel)",
   "language": "python",
   "name": "python3"
  },
  "language_info": {
   "codemirror_mode": {
    "name": "ipython",
    "version": 3
   },
   "file_extension": ".py",
   "mimetype": "text/x-python",
   "name": "python",
   "nbconvert_exporter": "python",
   "pygments_lexer": "ipython3",
   "version": "3.9.7"
  }
 },
 "nbformat": 4,
 "nbformat_minor": 4
}