{
 "cells": [
  {
   "cell_type": "markdown",
   "metadata": {},
   "source": [
    "# Aufgabe 1"
   ]
  },
  {
   "cell_type": "code",
   "execution_count": 62,
   "metadata": {},
   "outputs": [
    {
     "name": "stdout",
     "output_type": "stream",
     "text": [
      "Matrix A:\n",
      "[[ 1  2  4]\n",
      " [ 2  3  8]\n",
      " [-1 -3 -1]]\n",
      "\n",
      "QR-Zerlegung:\n",
      "Q:\n",
      "[[-0.40824829  0.12309149  0.90453403]\n",
      " [-0.81649658 -0.49236596 -0.30151134]\n",
      " [ 0.40824829 -0.86164044  0.30151134]]\n",
      "R:\n",
      "[[-2.44948974 -4.4907312  -8.5732141 ]\n",
      " [ 0.          1.3540064  -2.58492131]\n",
      " [ 0.          0.          0.90453403]]\n",
      "Probe A = QR:\n",
      "[[ 1.  2.  4.]\n",
      " [ 2.  3.  8.]\n",
      " [-1. -3. -1.]]\n"
     ]
    }
   ],
   "source": [
    "import numpy as np\n",
    "\n",
    "A = np.array([[1, 2, 4], [2, 3, 8], [-1, -3, -1]])\n",
    "\n",
    "# QR-Zerlegung\n",
    "Q, R = np.linalg.qr(A)\n",
    "\n",
    "# Probe: A = QR\n",
    "probe = np.matmul(Q, R)\n",
    "\n",
    "print(\"Matrix A:\")\n",
    "print(A)\n",
    "print(\"\\nQR-Zerlegung:\")\n",
    "print(\"Q:\")\n",
    "print(Q)\n",
    "print(\"R:\")\n",
    "print(R)\n",
    "print(\"Probe A = QR:\")\n",
    "print(probe)"
   ]
  },
  {
   "cell_type": "code",
   "execution_count": 63,
   "metadata": {},
   "outputs": [],
   "source": [
    "import numpy as np\n",
    "\n",
    "def approximate_diagonal_matrix(A, iterations):\n",
    "    An = np.copy(A)\n",
    "    U_matrices = []\n",
    "\n",
    "    for iteration in range(iterations):\n",
    "        Q, R = np.linalg.qr(An)\n",
    "        U_matrices.append(Q)\n",
    "        An = np.dot(R, Q)\n",
    "    \n",
    "    result_U = np.eye(U_matrices[0].shape[0]) # EInheitsmatrix\n",
    "    for U in U_matrices:\n",
    "        result_U = np.dot(result_U, U)\n",
    "\n",
    "\n",
    "    return An, result_U"
   ]
  },
  {
   "cell_type": "code",
   "execution_count": 72,
   "metadata": {},
   "outputs": [
    {
     "name": "stdout",
     "output_type": "stream",
     "text": [
      "\n",
      "Matrix B:\n",
      "[[ 2 -1]\n",
      " [-1  4]]\n",
      "\n",
      "Matrix B' (approximated):\n",
      "[[ 4.41421354e+00 -2.44474891e-04]\n",
      " [-2.44474891e-04  1.58578646e+00]]\n",
      "\n",
      "Probe B = UB'U^T:\n",
      "[[ 2. -1.]\n",
      " [-1.  4.]]\n",
      "\n",
      "Approximierte Eigenwerte von B:\n",
      "[4.41421354 1.58578646]\n",
      "\n",
      "Exakte Eigenwerte von B (numpy.linalg.eigvals):\n",
      "[1.58578644 4.41421356]\n"
     ]
    }
   ],
   "source": [
    "B = np.array([[2, -1], [-1, 4]])\n",
    "\n",
    "# Anwenden der Funktion auf Matrix B\n",
    "B_diagonal, U_B = approximate_diagonal_matrix(B, 10)\n",
    "\n",
    "# Probe: B = UB'U^T\n",
    "probe_B = np.matmul(np.matmul(U_B, B_diagonal), U_B.T)\n",
    "\n",
    "# Vergleich der Approximation mit numpy.linalg.eigvals\n",
    "eigenvalues_B_approx = np.diagonal(B_diagonal)\n",
    "eigenvalues_B_exact = np.linalg.eigvals(B)\n",
    "\n",
    "print(\"\\nMatrix B:\")\n",
    "print(B)\n",
    "print(\"\\nMatrix B':\")\n",
    "print(B_diagonal)\n",
    "print(\"\\nProbe B = UB'U^T:\")\n",
    "print(probe_B)\n",
    "print(\"\\nApproximierte Eigenwerte von B:\")\n",
    "print(eigenvalues_B_approx)\n",
    "print(\"\\nExakte Eigenwerte von B (numpy.linalg.eigvals):\")\n",
    "print(eigenvalues_B_exact)"
   ]
  },
  {
   "cell_type": "markdown",
   "metadata": {},
   "source": [
    "# Aufgabe 2"
   ]
  },
  {
   "cell_type": "code",
   "execution_count": 65,
   "metadata": {},
   "outputs": [
    {
     "name": "stdout",
     "output_type": "stream",
     "text": [
      "[1. 2.]\n"
     ]
    }
   ],
   "source": [
    "def solveUpper(R, b):\n",
    "    n = len(b)\n",
    "    x = np.zeros(n)\n",
    "\n",
    "    for i in range(n-1, -1, -1):\n",
    "        x[i] = b[i] / R[i, i]\n",
    "        for j in range(i-1, -1, -1):\n",
    "            b[j] -= R[j, i] * x[i]\n",
    "\n",
    "    return x\n",
    "\n",
    "R = np.array([[1, 2], [0, 3]])\n",
    "b = np.array([5, 6])\n",
    "\n",
    "solution_test = solveUpper(R, b)\n",
    "print(solution_test)"
   ]
  },
  {
   "cell_type": "code",
   "execution_count": 66,
   "metadata": {},
   "outputs": [
    {
     "name": "stdout",
     "output_type": "stream",
     "text": [
      "[0.55882353 0.08823529]\n"
     ]
    }
   ],
   "source": [
    "def myQRSolver(A, b):\n",
    "    Q, R = np.linalg.qr(A)\n",
    "    Qt_b = np.dot(Q.T, b)\n",
    "    x = solveUpper(R, Qt_b)\n",
    "    return x\n",
    "\n",
    "\n",
    "A_test = np.array([[1, 5], [7, 1]])\n",
    "b_test = np.array([1, 4])\n",
    "\n",
    "solution_qr_test = myQRSolver(A_test, b_test)\n",
    "print(solution_qr_test)"
   ]
  },
  {
   "cell_type": "code",
   "execution_count": 67,
   "metadata": {},
   "outputs": [
    {
     "name": "stdout",
     "output_type": "stream",
     "text": [
      "MyQRSolver results:  [0.6 0.2]\n",
      "probe:  [1. 2.]\n",
      "results numpy:  [0.6 0.2]\n",
      "numpy probe:  [1. 2.]\n"
     ]
    }
   ],
   "source": [
    "A = np.array([[1,2],[3,1]])\n",
    "b = np.array([1,2])\n",
    "\n",
    "\n",
    "x = myQRSolver(A,b)\n",
    "probe = np.matmul(A,x)\n",
    "print(\"MyQRSolver results: \" , x)\n",
    "print(\"probe: \", probe)\n",
    "\n",
    "#probe\n",
    "x_numpy = np.linalg.solve(A,b)\n",
    "numpy_probe = np.matmul(A, x_numpy)\n",
    "#numpy_probe = np.dot(A,x_numpy)\n",
    "print(\"results numpy: \", x_numpy)\n",
    "print(\"numpy probe: \" ,numpy_probe)"
   ]
  },
  {
   "cell_type": "markdown",
   "metadata": {},
   "source": [
    "# Aufgabe 3"
   ]
  },
  {
   "cell_type": "markdown",
   "metadata": {},
   "source": [
    "Matrix A mit dem entsprechenden Vektor b aus dem letzten Übungsblatt:\n",
    "\n",
    "$ A = \\begin{bmatrix}\n",
    "1 + \\lambda & -\\lambda & 0 & \\cdots & 0 \\\\\n",
    "-\\lambda & 1 + 2\\lambda & -\\lambda & \\cdots & 0 \\\\\n",
    "0 & -\\lambda & 1 + 2\\lambda & \\cdots & 0 \\\\\n",
    "\\vdots & \\vdots & \\vdots & \\ddots & \\vdots \\\\\n",
    "0 & 0 & 0 & -\\lambda & 1 + \\lambda\n",
    "\\end{bmatrix} $\n",
    "\n",
    "\n",
    "$b  = \\begin{bmatrix}\n",
    "x_1 \\\\\n",
    "x_2 \\\\\n",
    "x_3 \\\\\n",
    "\\vdots \\\\\n",
    "x_n\n",
    "\\end{bmatrix} = \\begin{bmatrix}\n",
    "x_1(1+ \\lambda) + x_2(-\\lambda) -y_1 \\\\\n",
    "x_{i-1}(-\\lambda) + x_i(1+2\\lambda) + x_{i+1}(-\\lambda) -y_1 \\\\\n",
    "\\vdots \\\\\n",
    "x_{n-1}(-\\lambda) -x_n(1+\\lambda) - y_n\n",
    "\\end{bmatrix}$"
   ]
  },
  {
   "cell_type": "markdown",
   "metadata": {},
   "source": [
    "a) DaS starke Zeilensummenkriterium ist erfüllt, wenn in jeder Zeile die Summer der Beträge der Elemente die nicht auf der Diagonalen leigen kleiner sind als das entsprechende Diagonalelement.\n",
    "\n",
    "Für die Matrix A muss daher die erste, die i-te sowie die letzte Zeile betrachtet werden:\n",
    "\n",
    "Für die erste Zeile i=1 heißt das:\n",
    "\n",
    "$|1 + \\lambda| > |-\\lambda|$\n",
    "\n",
    "Da in einer Kostenfunktion davon ausgangen werden kann, dass $\\lambda$ immer positiv ist, ist die Bedingung hier erfüllt\n",
    "\n",
    "Für die letzte Zeile (i=n)\n",
    "\n",
    "$|1+\\lambda| > |-\\lambda| $\n",
    "\n",
    "Auch hier ist die Bedingung für ein positives $\\lambda$ erfüllt\n",
    "\n",
    "Für die inneren Zeilen (2<= i <=n-1)\n",
    "\n",
    "$|1+2\\lambda| > |-\\lambda| + |-\\lambda|$\n",
    "\n",
    "Insgesamt ist die Bedingung für jede Zeile erfüllt und die gesamte Matrix A erfüllt das starke Zeilensummenkriterium\n"
   ]
  },
  {
   "cell_type": "code",
   "execution_count": 68,
   "metadata": {},
   "outputs": [
    {
     "data": {
      "image/png": "[encoded data removed]",
      "text/plain": [
       "<Figure size 640x480 with 1 Axes>"
      ]
     },
     "metadata": {},
     "output_type": "display_data"
    }
   ],
   "source": [
    "import matplotlib.pyplot as plt\n",
    "\n",
    "def sampleNoisyPoints(n, m, c):\n",
    "    t = np.arange(n)\n",
    "    epsilon = np.random.normal(0, 1, n) \n",
    "    y = m * t + c + epsilon \n",
    "    return t, y\n",
    "\n",
    "\n",
    "t, y = sampleNoisyPoints(10, 0.5, 2)\n",
    "\n",
    "plt.scatter(t, y, label='Noisy Points')\n",
    "plt.plot(t, 0.5 * t + 2, label='True Function', color='red')\n",
    "plt.legend()\n",
    "plt.show()"
   ]
  },
  {
   "cell_type": "code",
   "execution_count": 69,
   "metadata": {},
   "outputs": [
    {
     "data": {
      "image/png": "[encoded data removed]",
      "text/plain": [
       "<Figure size 640x480 with 1 Axes>"
      ]
     },
     "metadata": {},
     "output_type": "display_data"
    },
    {
     "name": "stdout",
     "output_type": "stream",
     "text": [
      "Matrix A:\n",
      "[[ 1.5 -0.5  0.   0.   0. ]\n",
      " [-0.5  2.  -0.5  0.   0. ]\n",
      " [ 0.  -0.5  2.  -0.5  0. ]\n",
      " [ 0.   0.  -0.5  2.  -0.5]\n",
      " [ 0.   0.   0.  -0.5  1.5]]\n",
      "\n",
      "Vektor b:\n",
      "[0.  2.  3.  4.  5.5]\n"
     ]
    }
   ],
   "source": [
    "def setupLGS(y, lambda_value):\n",
    "    n = len(y)\n",
    "    A = np.zeros((n, n))\n",
    "    b = np.zeros(n)\n",
    "\n",
    "    # Set up the diagonal elements of A\n",
    "    for i in range(1, n-1):\n",
    "        A[i, i-1] = -1 * lambda_value\n",
    "        A[i, i] = 1 + 2 * lambda_value\n",
    "        A[i, i+1] = -1 * lambda_value\n",
    "\n",
    "    A[0, 0] = 1 + lambda_value\n",
    "    A[0, 1] = -1 * lambda_value\n",
    "    A[n-1, n-2] = -1 * lambda_value\n",
    "    A[n-1, n-1] = 1 + lambda_value\n",
    "\n",
    "    b = np.zeros(n)\n",
    "    b[0] = y[0] - lambda_value * y[1]\n",
    "    b[1:n-1] = y[1:n-1] - lambda_value * (y[0:n-2] - 2 * y[1:n-1] + y[2:n])\n",
    "    b[n-1] = y[n-1] - lambda_value * (y[n-2] - y[n-1])\n",
    "\n",
    "    return A, b\n",
    "\n",
    "lambda_value = 0.5\n",
    "y_values = np.array([1, 2, 3, 4, 5])\n",
    "A_matrix, b_vector = setupLGS(y_values, lambda_value, )\n",
    "\n",
    "plt.scatter(t, y, label='Noisy Points')\n",
    "plt.plot(t, 0.5 * t + 2, label='True Function', color='red')\n",
    "plt.legend()\n",
    "plt.show()\n",
    "print(\"Matrix A:\")\n",
    "print(A_matrix)\n",
    "print(\"\\nVektor b:\")\n",
    "print(b_vector)"
   ]
  },
  {
   "cell_type": "code",
   "execution_count": 70,
   "metadata": {},
   "outputs": [
    {
     "name": "stdout",
     "output_type": "stream",
     "text": [
      "Matrix A:\n",
      "[[ 1.5 -0.5  0.   0.   0. ]\n",
      " [-0.5  2.  -0.5  0.   0. ]\n",
      " [ 0.  -0.5  2.  -0.5  0. ]\n",
      " [ 0.   0.  -0.5  2.  -0.5]\n",
      " [ 0.   0.   0.  -0.5  1.5]]\n",
      "\n",
      "Vektor b:\n",
      "[0.  2.  3.  4.  5.5]\n",
      "\n",
      "solution:\n",
      "[2.48578329 2.20402167 3.67559108 3.52216358 4.3795332  3.14615573\n",
      " 5.38613964 5.08840723 5.15612877 5.82475637]\n"
     ]
    }
   ],
   "source": [
    "t, y = sampleNoisyPoints( 10, 0.5, 2) \n",
    "lambda_value = 0.1\n",
    "A, b = setupLGS(y, lambda_value)\n",
    "x_solution = myQRSolver(A, b)\n",
    "\n",
    "print(\"Matrix A:\")\n",
    "print(A_matrix)\n",
    "print(\"\\nVektor b:\")\n",
    "print(b_vector)\n",
    "print(\"\\nsolution:\")\n",
    "print(x_solution)"
   ]
  },
  {
   "cell_type": "code",
   "execution_count": 71,
   "metadata": {},
   "outputs": [
    {
     "data": {
      "image/png": "[encoded data removed]",
      "text/plain": [
       "<Figure size 640x480 with 1 Axes>"
      ]
     },
     "metadata": {},
     "output_type": "display_data"
    }
   ],
   "source": [
    "plt.plot(y, label='Original Kurve')\n",
    "plt.plot(x_solution, label='Zeitreihe')\n",
    "plt.legend()\n",
    "plt.show()"
   ]
  },
  {
   "cell_type": "markdown",
   "metadata": {},
   "source": []
  }
 ],
 "metadata": {
  "kernelspec": {
   "display_name": "Python 3",
   "language": "python",
   "name": "python3"
  },
  "language_info": {
   "codemirror_mode": {
    "name": "ipython",
    "version": 3
   },
   "file_extension": ".py",
   "mimetype": "text/x-python",
   "name": "python",
   "nbconvert_exporter": "python",
   "pygments_lexer": "ipython3",
   "version": "3.9.5"
  }
 },
 "nbformat": 4,
 "nbformat_minor": 2
}
