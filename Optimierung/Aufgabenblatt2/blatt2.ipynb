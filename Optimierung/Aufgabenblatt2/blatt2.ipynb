{
 "cells": [
  {
   "cell_type": "code",
   "execution_count": 1,
   "metadata": {},
   "outputs": [
    {
     "name": "stdout",
     "output_type": "stream",
     "text": [
      "Matrix A:\n",
      "[[ 1  2  4]\n",
      " [ 2  3  8]\n",
      " [-1 -3 -1]]\n",
      "\n",
      "QR-Zerlegung:\n",
      "Q:\n",
      "[[-0.40824829  0.12309149  0.90453403]\n",
      " [-0.81649658 -0.49236596 -0.30151134]\n",
      " [ 0.40824829 -0.86164044  0.30151134]]\n",
      "R:\n",
      "[[-2.44948974 -4.4907312  -8.5732141 ]\n",
      " [ 0.          1.3540064  -2.58492131]\n",
      " [ 0.          0.          0.90453403]]\n",
      "\n",
      "Probe A = QR:\n",
      "[[ 1.  2.  4.]\n",
      " [ 2.  3.  8.]\n",
      " [-1. -3. -1.]]\n"
     ]
    }
   ],
   "source": [
    "import numpy as np\n",
    "\n",
    "A = np.array([[1, 2, 4], [2, 3, 8], [-1, -3, -1]])\n",
    "\n",
    "# QR-Zerlegung\n",
    "Q, R = np.linalg.qr(A)\n",
    "\n",
    "# Probe: A = QR\n",
    "probe = np.matmul(Q, R)\n",
    "\n",
    "print(\"Matrix A:\")\n",
    "print(A)\n",
    "print(\"\\nQR-Zerlegung:\")\n",
    "print(\"Q:\")\n",
    "print(Q)\n",
    "print(\"R:\")\n",
    "print(R)\n",
    "print(\"Probe A = QR:\")\n",
    "print(probe)"
   ]
  },
  {
   "cell_type": "code",
   "execution_count": 4,
   "metadata": {},
   "outputs": [
    {
     "name": "stdout",
     "output_type": "stream",
     "text": [
      "Original Matrix A:\n",
      "[[ 1  2  4]\n",
      " [ 2  3  8]\n",
      " [-1 -3 -1]]\n",
      "\n",
      "Approximated Diagonal-Dominant Matrix A' after Iterations:\n",
      "[[ 3.44854489 -9.32139336 -1.71939183]\n",
      " [ 2.62898025 -0.32034543  0.48193578]\n",
      " [ 0.          0.         -0.12819947]]\n"
     ]
    }
   ],
   "source": [
    "import numpy as np\n",
    "\n",
    "def approximate_diagonal_matrix_iteration(A):\n",
    "    An = np.copy(A)\n",
    "    U_matrices = []\n",
    "\n",
    "    for iteration in range(1000):\n",
    "        # QR decomposition\n",
    "        Q, R = np.linalg.qr(An)\n",
    "        U_matrices.append(Q)\n",
    "        # Update An+1 = R * Q\n",
    "        An = np.dot(R, Q)\n",
    "\n",
    "        # Check for diagonal dominance\n",
    "        #off_diagonal_sum = np.sum(np.abs(An - np.diag(np.diagonal(An))))\n",
    "        \n",
    "        #if off_diagonal_sum < tolerance:\n",
    "            #break\n",
    "    for Q in U_matrices:\n",
    "        \n",
    "    return An, U\n",
    "\n",
    "\n",
    "A_prime_approx = approximate_diagonal_matrix_iteration(A)\n",
    "\n",
    "print(\"Original Matrix A:\")\n",
    "print(A)\n",
    "print(\"\\nApproximated Diagonal-Dominant Matrix A' after Iterations:\")\n",
    "print(A_prime_approx)"
   ]
  },
  {
   "cell_type": "code",
   "execution_count": 5,
   "metadata": {},
   "outputs": [
    {
     "ename": "NameError",
     "evalue": "name 'approximate_diagonal_matrix' is not defined",
     "output_type": "error",
     "traceback": [
      "\u001b[1;31m---------------------------------------------------------------------------\u001b[0m",
      "\u001b[1;31mNameError\u001b[0m                                 Traceback (most recent call last)",
      "\u001b[1;32mc:\\Users\\Jann\\PycharmProjects\\Optimierung\\Optimierung\\Aufgabenblatt2\\blatt2.ipynb Cell 3\u001b[0m line \u001b[0;36m4\n\u001b[0;32m      <a href='vscode-notebook-cell:/c%3A/Users/Jann/PycharmProjects/Optimierung/Optimierung/Aufgabenblatt2/blatt2.ipynb#W2sZmlsZQ%3D%3D?line=0'>1</a>\u001b[0m B \u001b[39m=\u001b[39m np\u001b[39m.\u001b[39marray([[\u001b[39m2\u001b[39m, \u001b[39m-\u001b[39m\u001b[39m1\u001b[39m], [\u001b[39m-\u001b[39m\u001b[39m1\u001b[39m, \u001b[39m4\u001b[39m]])\n\u001b[0;32m      <a href='vscode-notebook-cell:/c%3A/Users/Jann/PycharmProjects/Optimierung/Optimierung/Aufgabenblatt2/blatt2.ipynb#W2sZmlsZQ%3D%3D?line=2'>3</a>\u001b[0m \u001b[39m# Anwenden der Funktion auf Matrix B\u001b[39;00m\n\u001b[1;32m----> <a href='vscode-notebook-cell:/c%3A/Users/Jann/PycharmProjects/Optimierung/Optimierung/Aufgabenblatt2/blatt2.ipynb#W2sZmlsZQ%3D%3D?line=3'>4</a>\u001b[0m B_prime, U_B \u001b[39m=\u001b[39m approximate_diagonal_matrix(B)\n\u001b[0;32m      <a href='vscode-notebook-cell:/c%3A/Users/Jann/PycharmProjects/Optimierung/Optimierung/Aufgabenblatt2/blatt2.ipynb#W2sZmlsZQ%3D%3D?line=5'>6</a>\u001b[0m \u001b[39m# Probe: B = UB'U^T\u001b[39;00m\n\u001b[0;32m      <a href='vscode-notebook-cell:/c%3A/Users/Jann/PycharmProjects/Optimierung/Optimierung/Aufgabenblatt2/blatt2.ipynb#W2sZmlsZQ%3D%3D?line=6'>7</a>\u001b[0m probe_B \u001b[39m=\u001b[39m np\u001b[39m.\u001b[39mmatmul(np\u001b[39m.\u001b[39mmatmul(U_B, B_prime), U_B\u001b[39m.\u001b[39mT)\n",
      "\u001b[1;31mNameError\u001b[0m: name 'approximate_diagonal_matrix' is not defined"
     ]
    }
   ],
   "source": [
    "B = np.array([[2, -1], [-1, 4]])\n",
    "\n",
    "# Anwenden der Funktion auf Matrix B\n",
    "B_prime, U_B = approximate_diagonal_matrix(B)\n",
    "\n",
    "# Probe: B = UB'U^T\n",
    "probe_B = np.matmul(np.matmul(U_B, B_prime), U_B.T)\n",
    "\n",
    "# Vergleich der Approximation mit numpy.linalg.eigvals\n",
    "eigenvalues_B_approx = np.diagonal(B_prime)\n",
    "eigenvalues_B_exact = np.linalg.eigvals(B)\n",
    "\n",
    "print(\"\\nMatrix B:\")\n",
    "print(B)\n",
    "print(\"\\nMatrix B' (approximated):\")\n",
    "print(B_prime)\n",
    "print(\"\\nProbe B = UB'U^T:\")\n",
    "print(probe_B)\n",
    "print(\"\\nApproximierte Eigenwerte von B:\")\n",
    "print(eigenvalues_B_approx)\n",
    "print(\"\\nExakte Eigenwerte von B (numpy.linalg.eigvals):\")\n",
    "print(eigenvalues_B_exact)"
   ]
  }
 ],
 "metadata": {
  "kernelspec": {
   "display_name": "Python 3",
   "language": "python",
   "name": "python3"
  },
  "language_info": {
   "codemirror_mode": {
    "name": "ipython",
    "version": 3
   },
   "file_extension": ".py",
   "mimetype": "text/x-python",
   "name": "python",
   "nbconvert_exporter": "python",
   "pygments_lexer": "ipython3",
   "version": "3.9.5"
  }
 },
 "nbformat": 4,
 "nbformat_minor": 2
}
