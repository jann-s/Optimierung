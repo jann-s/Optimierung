{
 "cells": [
  {
   "cell_type": "markdown",
   "metadata": {},
   "source": [
    "Aufgabe 1 a)"
   ]
  },
  {
   "cell_type": "code",
   "execution_count": 5,
   "metadata": {},
   "outputs": [],
   "source": [
    "def rosenbrock(x, y):\n",
    "    return 100 * (y - x**2)**2 + (1 - x)**2"
   ]
  },
  {
   "cell_type": "markdown",
   "metadata": {},
   "source": [
    "b)"
   ]
  },
  {
   "cell_type": "code",
   "execution_count": 6,
   "metadata": {},
   "outputs": [],
   "source": [
    "import numpy as np\n",
    "\n",
    "def hessian_rosenbrock(x, y):\n",
    "    df2_dx2 = 1200 * x**2 - 400 * y + 2\n",
    "    df2_dy2 = 200\n",
    "    df2_dxdy = -400 * x\n",
    "    hessian_matrix = np.array([[df2_dx2, df2_dxdy], [df2_dxdy, df2_dy2]])\n",
    "    return hessian_matrix"
   ]
  },
  {
   "cell_type": "markdown",
   "metadata": {},
   "source": [
    "c)"
   ]
  },
  {
   "cell_type": "code",
   "execution_count": 7,
   "metadata": {},
   "outputs": [
    {
     "name": "stdout",
     "output_type": "stream",
     "text": [
      "Result: [nan nan]\n",
      "Value at Result: nan\n"
     ]
    },
    {
     "name": "stderr",
     "output_type": "stream",
     "text": [
      "C:\\Users\\Jann\\AppData\\Local\\Temp\\ipykernel_17420\\220933225.py:2: RuntimeWarning: overflow encountered in double_scalars\n",
      "  df_dx = -400 * x * (y - x**2) - 2 * (1 - x)\n",
      "C:\\Users\\Jann\\AppData\\Local\\Temp\\ipykernel_17420\\220933225.py:3: RuntimeWarning: overflow encountered in double_scalars\n",
      "  df_dy = 200 * (y - x**2)\n",
      "C:\\Users\\Jann\\AppData\\Local\\Temp\\ipykernel_17420\\220933225.py:2: RuntimeWarning: invalid value encountered in double_scalars\n",
      "  df_dx = -400 * x * (y - x**2) - 2 * (1 - x)\n",
      "C:\\Users\\Jann\\AppData\\Local\\Temp\\ipykernel_17420\\220933225.py:3: RuntimeWarning: invalid value encountered in double_scalars\n",
      "  df_dy = 200 * (y - x**2)\n"
     ]
    }
   ],
   "source": [
    "def gradient_rosenbrock(x, y):\n",
    "    df_dx = -400 * x * (y - x**2) - 2 * (1 - x)\n",
    "    df_dy = 200 * (y - x**2)\n",
    "    return np.array([df_dx, df_dy])\n",
    "\n",
    "def gradient_descent(starting_point, learning_rate, iterations):\n",
    "    current_point = np.array(starting_point)\n",
    "    \n",
    "    for i in range(iterations):\n",
    "        gradient = gradient_rosenbrock(*current_point)\n",
    "        current_point = current_point - learning_rate * gradient\n",
    "\n",
    "    return current_point\n",
    "\n",
    "# Beispielaufruf\n",
    "start_point = [0.5, 0.5]\n",
    "learning_rate = 0.01\n",
    "iterations = 100\n",
    "result = gradient_descent(start_point, learning_rate, iterations)\n",
    "print(\"Result:\", result)\n",
    "print(\"Value at Result:\", rosenbrock(*result))"
   ]
  },
  {
   "cell_type": "markdown",
   "metadata": {},
   "source": [
    "d)"
   ]
  },
  {
   "cell_type": "code",
   "execution_count": 8,
   "metadata": {},
   "outputs": [
    {
     "name": "stdout",
     "output_type": "stream",
     "text": [
      "Result (Newton): [1. 1.]\n",
      "Value at Result (Newton): 0.0\n"
     ]
    }
   ],
   "source": [
    "def hessian_rosenbrock(x, y):\n",
    "    df2_dx2 = 1200 * x**2 - 400 * y + 2\n",
    "    df2_dy2 = 200\n",
    "    df2_dxdy = -400 * x\n",
    "    return np.array([[df2_dx2, df2_dxdy], [df2_dxdy, df2_dy2]])\n",
    "\n",
    "def newton_method(starting_point, iterations, step_size=1.0):\n",
    "    current_point = np.array(starting_point)\n",
    "\n",
    "    for i in range(iterations):\n",
    "        gradient = gradient_rosenbrock(*current_point)\n",
    "        hessian_inv = np.linalg.inv(hessian_rosenbrock(*current_point))\n",
    "        current_point = current_point - step_size * np.dot(hessian_inv, gradient)\n",
    "\n",
    "    return current_point\n",
    "\n",
    "# Beispielaufruf\n",
    "start_point = [0.5, 0.5]\n",
    "iterations = 10\n",
    "result_newton = newton_method(start_point, iterations)\n",
    "print(\"Result (Newton):\", result_newton)\n",
    "print(\"Value at Result (Newton):\", rosenbrock(*result_newton))"
   ]
  },
  {
   "cell_type": "markdown",
   "metadata": {},
   "source": [
    "e)"
   ]
  },
  {
   "cell_type": "code",
   "execution_count": 9,
   "metadata": {},
   "outputs": [
    {
     "name": "stdout",
     "output_type": "stream",
     "text": [
      "Result (Levenberg-Marquardt): [0.74242457 0.54857271]\n",
      "Value at Result (Levenberg-Marquardt): 0.0670323434179822\n"
     ]
    }
   ],
   "source": [
    "def levenberg_marquardt(starting_point, iterations, lambda_value=0.001, factor=10, step_size=1.0):\n",
    "    current_point = np.array(starting_point)\n",
    "\n",
    "    for i in range(iterations):\n",
    "        gradient = gradient_rosenbrock(*current_point)\n",
    "        hessian = hessian_rosenbrock(*current_point)\n",
    "        hessian += lambda_value * np.eye(2)  # Regularization term\n",
    "        hessian_inv = np.linalg.inv(hessian)\n",
    "\n",
    "        update = np.dot(hessian_inv, gradient)\n",
    "        new_point = current_point - step_size * update\n",
    "\n",
    "        new_value = rosenbrock(*new_point)\n",
    "        current_value = rosenbrock(*current_point)\n",
    "\n",
    "        if new_value < current_value:\n",
    "            lambda_value /= factor\n",
    "            current_point = new_point\n",
    "        else:\n",
    "            lambda_value *= factor\n",
    "\n",
    "    return current_point\n",
    "\n",
    "# Beispielaufruf\n",
    "start_point = [0.5, 0.5]\n",
    "iterations = 10\n",
    "result_lm = levenberg_marquardt(start_point, iterations)\n",
    "print(\"Result (Levenberg-Marquardt):\", result_lm)\n",
    "print(\"Value at Result (Levenberg-Marquardt):\", rosenbrock(*result_lm))"
   ]
  }
 ],
 "metadata": {
  "kernelspec": {
   "display_name": "Python 3",
   "language": "python",
   "name": "python3"
  },
  "language_info": {
   "codemirror_mode": {
    "name": "ipython",
    "version": 3
   },
   "file_extension": ".py",
   "mimetype": "text/x-python",
   "name": "python",
   "nbconvert_exporter": "python",
   "pygments_lexer": "ipython3",
   "version": "3.9.5"
  }
 },
 "nbformat": 4,
 "nbformat_minor": 2
}
